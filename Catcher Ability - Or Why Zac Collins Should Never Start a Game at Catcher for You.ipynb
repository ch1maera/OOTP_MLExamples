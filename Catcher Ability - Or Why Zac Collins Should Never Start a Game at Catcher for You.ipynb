{
 "cells": [
  {
   "cell_type": "code",
   "execution_count": 1,
   "metadata": {},
   "outputs": [],
   "source": [
    "import pandas as pd\n",
    "import numpy as np\n",
    "import matplotlib.pyplot as plt\n",
    "from sklearn import linear_model\n",
    "%matplotlib inline"
   ]
  },
  {
   "cell_type": "markdown",
   "metadata": {},
   "source": [
    "This is the second iteration of Jupyter Notebooks looking at fielding ratings in Out of the Park Baseball XX. This notebook will focus on Catcher Ability, probably the least understood fielding attribute in the game. People would be ridiculed out of the league if they put a player with 35 range at either SS or CF, yet there are players like Zac Collins, Stephen Vogt, and Ian Rice holding roster spots in the league as catchers.\n",
    "\n",
    "As with everything in this series, measuring the impact one single fielding attribute has on the run environment is tenuous, and there's the inherent variability in baseball. The method of data collection, using the simulation module in game, is also not established as being 1:1 with the game engine that's used to produce results, but it's the best we've got right now.\n",
    "\n",
    "Setup (If you read this yesterday, skip to the next paragraph):\n",
    "I've already established I will be using the base MLB league in OOTPXX, and using the Seattle Mariners. Every rating that was used for this was modified from the default for that individual player. For this, I used the simulation module in game to simulate the season 100 times for each combination of ratings, scraping the HTML report after each simulation and saving that as a CSV file. I will primarily be looking at the number of runs allowed by the team in relation to the specific variable being tested, but in some instances when looking at catching data will expand to ERA/K/BB as well.\n",
    "\n",
    "This experiment uses Tom Murphy as its test subject. Murphy is not a particularly good catcher by any mean, but is respectable behind the plate with a starting Catcher Ability of 55.\n",
    "\n",
    "For all the boxplots in this, Catcher Ability is shown on the vertical axis, and the statistic being measured is on the horizontal axis.\n",
    "\n",
    "In the below code block, I load the data from the experiment. Each row in the data corresponds to a different season, with the last column 'RLF' being the range rating on the 1-200 scale for that season."
   ]
  },
  {
   "cell_type": "code",
   "execution_count": 2,
   "metadata": {},
   "outputs": [
    {
     "data": {
      "text/html": [
       "<div>\n",
       "<style scoped>\n",
       "    .dataframe tbody tr th:only-of-type {\n",
       "        vertical-align: middle;\n",
       "    }\n",
       "\n",
       "    .dataframe tbody tr th {\n",
       "        vertical-align: top;\n",
       "    }\n",
       "\n",
       "    .dataframe thead th {\n",
       "        text-align: right;\n",
       "    }\n",
       "</style>\n",
       "<table border=\"1\" class=\"dataframe\">\n",
       "  <thead>\n",
       "    <tr style=\"text-align: right;\">\n",
       "      <th></th>\n",
       "      <th>W</th>\n",
       "      <th>L</th>\n",
       "      <th>Runs</th>\n",
       "      <th>AVG</th>\n",
       "      <th>HR</th>\n",
       "      <th>SB</th>\n",
       "      <th>Runs against</th>\n",
       "      <th>ERA</th>\n",
       "      <th>K</th>\n",
       "      <th>BB</th>\n",
       "      <th>CA</th>\n",
       "    </tr>\n",
       "  </thead>\n",
       "  <tbody>\n",
       "    <tr>\n",
       "      <th>0</th>\n",
       "      <td>75</td>\n",
       "      <td>87</td>\n",
       "      <td>749</td>\n",
       "      <td>0.255</td>\n",
       "      <td>177</td>\n",
       "      <td>100</td>\n",
       "      <td>872</td>\n",
       "      <td>4.94</td>\n",
       "      <td>1331</td>\n",
       "      <td>552</td>\n",
       "      <td>140</td>\n",
       "    </tr>\n",
       "    <tr>\n",
       "      <th>1</th>\n",
       "      <td>64</td>\n",
       "      <td>98</td>\n",
       "      <td>633</td>\n",
       "      <td>0.242</td>\n",
       "      <td>140</td>\n",
       "      <td>113</td>\n",
       "      <td>821</td>\n",
       "      <td>4.79</td>\n",
       "      <td>1341</td>\n",
       "      <td>536</td>\n",
       "      <td>140</td>\n",
       "    </tr>\n",
       "    <tr>\n",
       "      <th>2</th>\n",
       "      <td>77</td>\n",
       "      <td>85</td>\n",
       "      <td>733</td>\n",
       "      <td>0.257</td>\n",
       "      <td>169</td>\n",
       "      <td>89</td>\n",
       "      <td>799</td>\n",
       "      <td>4.59</td>\n",
       "      <td>1303</td>\n",
       "      <td>547</td>\n",
       "      <td>140</td>\n",
       "    </tr>\n",
       "    <tr>\n",
       "      <th>3</th>\n",
       "      <td>64</td>\n",
       "      <td>98</td>\n",
       "      <td>653</td>\n",
       "      <td>0.244</td>\n",
       "      <td>149</td>\n",
       "      <td>113</td>\n",
       "      <td>795</td>\n",
       "      <td>4.59</td>\n",
       "      <td>1363</td>\n",
       "      <td>538</td>\n",
       "      <td>140</td>\n",
       "    </tr>\n",
       "    <tr>\n",
       "      <th>4</th>\n",
       "      <td>69</td>\n",
       "      <td>93</td>\n",
       "      <td>674</td>\n",
       "      <td>0.248</td>\n",
       "      <td>138</td>\n",
       "      <td>99</td>\n",
       "      <td>793</td>\n",
       "      <td>4.64</td>\n",
       "      <td>1318</td>\n",
       "      <td>548</td>\n",
       "      <td>140</td>\n",
       "    </tr>\n",
       "  </tbody>\n",
       "</table>\n",
       "</div>"
      ],
      "text/plain": [
       "    W   L  Runs    AVG   HR   SB  Runs against   ERA     K   BB   CA\n",
       "0  75  87   749  0.255  177  100           872  4.94  1331  552  140\n",
       "1  64  98   633  0.242  140  113           821  4.79  1341  536  140\n",
       "2  77  85   733  0.257  169   89           799  4.59  1303  547  140\n",
       "3  64  98   653  0.244  149  113           795  4.59  1363  538  140\n",
       "4  69  93   674  0.248  138   99           793  4.64  1318  548  140"
      ]
     },
     "execution_count": 2,
     "metadata": {},
     "output_type": "execute_result"
    }
   ],
   "source": [
    "catcher = pd.read_csv('CatcherAbility.csv')\n",
    "catcher.head()"
   ]
  },
  {
   "cell_type": "markdown",
   "metadata": {},
   "source": [
    "Here are all the corresponding catcher ability ratings on the 20-80 scale that were used. There are some products of rounding evident in this. "
   ]
  },
  {
   "cell_type": "code",
   "execution_count": 3,
   "metadata": {},
   "outputs": [
    {
     "data": {
      "text/plain": [
       "[60.0, 70.0, 80.0, 40.0, 55.0, 35.0, 45.0, 60.0]"
      ]
     },
     "execution_count": 3,
     "metadata": {},
     "output_type": "execute_result"
    }
   ],
   "source": [
    "list(5 * np.round(((((catcher.CA.unique() - 1) * (80 - 20)) / (200 - 1)) + 20) / 5, 0))"
   ]
  },
  {
   "cell_type": "markdown",
   "metadata": {},
   "source": [
    "Below is a histogram looking at the distribution of runs the team gave up for both a catcher with an 80 ability, and one who has a 35 catcher ability."
   ]
  },
  {
   "cell_type": "code",
   "execution_count": 4,
   "metadata": {},
   "outputs": [
    {
     "data": {
      "image/png": "[encoded data removed]",
      "text/plain": [
       "<Figure size 432x288 with 1 Axes>"
      ]
     },
     "metadata": {
      "needs_background": "light"
     },
     "output_type": "display_data"
    }
   ],
   "source": [
    "great = catcher.loc[catcher['CA'] == 200, ['Runs against']]\n",
    "horrible = catcher.loc[catcher['CA'] == 50, ['Runs against']]\n",
    "\n",
    "plt.hist([great['Runs against']\n",
    "          , horrible['Runs against']\n",
    "         ] , alpha=0.5, label=['Great', 'Bad'])\n",
    "\n",
    "plt.legend(loc='upper right')\n",
    "plt.show()"
   ]
  },
  {
   "cell_type": "markdown",
   "metadata": {},
   "source": [
    "A boxplot of all the various range ratings on the vertical axis, and the number of runs allowed on the horizonal axis.\n",
    "\n",
    "It seems pretty clear that as ability increases, the median number of runs the team gives up decreases."
   ]
  },
  {
   "cell_type": "code",
   "execution_count": 5,
   "metadata": {},
   "outputs": [
    {
     "data": {
      "text/plain": [
       "<matplotlib.axes._subplots.AxesSubplot at 0x25b3c03eec8>"
      ]
     },
     "execution_count": 5,
     "metadata": {},
     "output_type": "execute_result"
    },
    {
     "data": {
      "image/png": "[encoded data removed]",
      "text/plain": [
       "<Figure size 432x288 with 1 Axes>"
      ]
     },
     "metadata": {
      "needs_background": "light"
     },
     "output_type": "display_data"
    }
   ],
   "source": [
    "catcher.boxplot('Runs against', by='CA', vert=False)"
   ]
  },
  {
   "cell_type": "markdown",
   "metadata": {},
   "source": [
    "As with the corner outfield range experiment, I won't be doing much model building and validation. From here on out, assume I've done some rudimentary model validation and viewing diagnostic plots.\n",
    "\n",
    "The corner outfield range model had a very weak score, and while this model's score is still weak, it is much higher than the previous one."
   ]
  },
  {
   "cell_type": "code",
   "execution_count": 16,
   "metadata": {},
   "outputs": [
    {
     "data": {
      "text/plain": [
       "0.11701290205720705"
      ]
     },
     "execution_count": 16,
     "metadata": {},
     "output_type": "execute_result"
    }
   ],
   "source": [
    "target = catcher['Runs against']\n",
    "variable = np.array(catcher['CA']).reshape(-1,1)\n",
    "lr = linear_model.LinearRegression()\n",
    "lr.fit(variable, target)\n",
    "lr.score(variable, target)"
   ]
  },
  {
   "cell_type": "markdown",
   "metadata": {},
   "source": [
    "For every five point difference in catcher ability, we would expect to see a change in runs allowed of about six over the course of a season."
   ]
  },
  {
   "cell_type": "code",
   "execution_count": 18,
   "metadata": {},
   "outputs": [
    {
     "data": {
      "text/plain": [
       "-5.940995354972196"
      ]
     },
     "execution_count": 18,
     "metadata": {},
     "output_type": "execute_result"
    }
   ],
   "source": [
    "(((((50 - 20) * (200 - 1)) / (80 - 20)) + 1) - (((45 - 20) * (200 - 1)) / (80 - 20)) + 1) * lr.coef_[0]"
   ]
  },
  {
   "cell_type": "markdown",
   "metadata": {},
   "source": [
    "The difference between a 65 ability (Buster Posey), and a player with 45 (Francisco Mejia) would be about 22 runs."
   ]
  },
  {
   "cell_type": "code",
   "execution_count": 8,
   "metadata": {},
   "outputs": [
    {
     "data": {
      "text/plain": [
       "-21.845812516041264"
      ]
     },
     "execution_count": 8,
     "metadata": {},
     "output_type": "execute_result"
    }
   ],
   "source": [
    "(((((65 - 20) * (200 - 1)) / (80 - 20)) + 1) - (((45 - 20) * (200 - 1)) / (80 - 20)) + 1) * lr.coef_[0]"
   ]
  },
  {
   "cell_type": "markdown",
   "metadata": {},
   "source": [
    "We can look at wins now. As with the runs allowed plot, there seems to be a clear relationship between ability and number of wins the team achieves."
   ]
  },
  {
   "cell_type": "code",
   "execution_count": 9,
   "metadata": {},
   "outputs": [
    {
     "data": {
      "text/plain": [
       "<matplotlib.axes._subplots.AxesSubplot at 0x25b3e2b75c8>"
      ]
     },
     "execution_count": 9,
     "metadata": {},
     "output_type": "execute_result"
    },
    {
     "data": {
      "image/png": "[encoded data removed]",
      "text/plain": [
       "<Figure size 432x288 with 1 Axes>"
      ]
     },
     "metadata": {
      "needs_background": "light"
     },
     "output_type": "display_data"
    }
   ],
   "source": [
    "catcher.boxplot('W', by='CA', vert=False)"
   ]
  },
  {
   "cell_type": "markdown",
   "metadata": {},
   "source": [
    "For every five point difference in ability, there appears to be a difference of .6 wins over the course of a season."
   ]
  },
  {
   "cell_type": "code",
   "execution_count": 10,
   "metadata": {},
   "outputs": [
    {
     "data": {
      "text/plain": [
       "0.6197351447751039"
      ]
     },
     "execution_count": 10,
     "metadata": {},
     "output_type": "execute_result"
    }
   ],
   "source": [
    "target = catcher['W']\n",
    "lr = linear_model.LinearRegression()\n",
    "lr.fit(variable, target)\n",
    "(((((50 - 20) * (200 - 1)) / (80 - 20)) + 1) - (((45 - 20) * (200 - 1)) / (80 - 20)) + 1) * lr.coef_[0]"
   ]
  },
  {
   "cell_type": "markdown",
   "metadata": {},
   "source": [
    "Comparing Posey to Mejia again, that's about 2.3 wins on the year."
   ]
  },
  {
   "cell_type": "code",
   "execution_count": 11,
   "metadata": {},
   "outputs": [
    {
     "data": {
      "text/plain": [
       "2.2788467206976923"
      ]
     },
     "execution_count": 11,
     "metadata": {},
     "output_type": "execute_result"
    }
   ],
   "source": [
    "(((((65 - 20) * (200 - 1)) / (80 - 20)) + 1) - (((45 - 20) * (200 - 1)) / (80 - 20)) + 1) * lr.coef_[0]"
   ]
  },
  {
   "cell_type": "markdown",
   "metadata": {},
   "source": [
    "Unlike outfield range, it makes sense to look at strikeouts (first plot below) and walks (second), since a catcher would be expected to have some measure of control over those given what we have seen so far.\n",
    "\n",
    "Again with both, it seems there is a clear relationship between ability and both statistics."
   ]
  },
  {
   "cell_type": "code",
   "execution_count": 12,
   "metadata": {},
   "outputs": [
    {
     "data": {
      "text/plain": [
       "<matplotlib.axes._subplots.AxesSubplot at 0x25b403db248>"
      ]
     },
     "execution_count": 12,
     "metadata": {},
     "output_type": "execute_result"
    },
    {
     "data": {
      "image/png": "[encoded data removed]",
      "text/plain": [
       "<Figure size 432x288 with 1 Axes>"
      ]
     },
     "metadata": {
      "needs_background": "light"
     },
     "output_type": "display_data"
    }
   ],
   "source": [
    "catcher.boxplot('K', by='CA', vert=False)"
   ]
  },
  {
   "cell_type": "code",
   "execution_count": 13,
   "metadata": {},
   "outputs": [
    {
     "data": {
      "text/plain": [
       "<matplotlib.axes._subplots.AxesSubplot at 0x25b404ea488>"
      ]
     },
     "execution_count": 13,
     "metadata": {},
     "output_type": "execute_result"
    },
    {
     "data": {
      "image/png": "[encoded data removed]",
      "text/plain": [
       "<Figure size 432x288 with 1 Axes>"
      ]
     },
     "metadata": {
      "needs_background": "light"
     },
     "output_type": "display_data"
    }
   ],
   "source": [
    "catcher.boxplot('BB', by='CA', vert=False)"
   ]
  },
  {
   "cell_type": "markdown",
   "metadata": {},
   "source": [
    "For every five point change in ability, the team would be expected to strikeout about 9 more batters, while walking 4.7 fewer. That's about 28 more strikeouts when comparing Mejia and Posey, and 19 fewer walks."
   ]
  },
  {
   "cell_type": "code",
   "execution_count": 14,
   "metadata": {},
   "outputs": [
    {
     "data": {
      "text/plain": [
       "9.03827736941398"
      ]
     },
     "execution_count": 14,
     "metadata": {},
     "output_type": "execute_result"
    }
   ],
   "source": [
    "target = catcher['K']\n",
    "lr = linear_model.LinearRegression()\n",
    "lr.fit(variable, target)\n",
    "(((((50 - 20) * (200 - 1)) / (80 - 20)) + 1) - (((45 - 20) * (200 - 1)) / (80 - 20)) + 1) * lr.coef_[0]"
   ]
  },
  {
   "cell_type": "code",
   "execution_count": 15,
   "metadata": {},
   "outputs": [
    {
     "data": {
      "text/plain": [
       "-4.70117870325535"
      ]
     },
     "execution_count": 15,
     "metadata": {},
     "output_type": "execute_result"
    }
   ],
   "source": [
    "target = catcher['BB']\n",
    "lr = linear_model.LinearRegression()\n",
    "lr.fit(variable, target)\n",
    "(((((50 - 20) * (200 - 1)) / (80 - 20)) + 1) - (((45 - 20) * (200 - 1)) / (80 - 20)) + 1) * lr.coef_[0]"
   ]
  },
  {
   "cell_type": "markdown",
   "metadata": {},
   "source": [
    "That concludes this look at catcher ability. I think the results speak for themselves in this situation. I do not think you'll ever see a catcher with an ability lower than 60 on my team in the future. :-)"
   ]
  }
 ],
 "metadata": {
  "kernelspec": {
   "display_name": "Python 3",
   "language": "python",
   "name": "python3"
  },
  "language_info": {
   "codemirror_mode": {
    "name": "ipython",
    "version": 3
   },
   "file_extension": ".py",
   "mimetype": "text/x-python",
   "name": "python",
   "nbconvert_exporter": "python",
   "pygments_lexer": "ipython3",
   "version": "3.7.5"
  }
 },
 "nbformat": 4,
 "nbformat_minor": 2
}
