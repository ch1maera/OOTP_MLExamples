{
 "cells": [
  {
   "cell_type": "code",
   "execution_count": 1,
   "metadata": {},
   "outputs": [],
   "source": [
    "import pandas as pd\n",
    "import numpy as np\n",
    "import matplotlib.pyplot as plt\n",
    "import statsmodels.api as sm\n",
    "from scipy.stats import sem\n",
    "from sklearn import linear_model\n",
    "%matplotlib inline"
   ]
  },
  {
   "cell_type": "markdown",
   "metadata": {},
   "source": [
    "Welcome to the first in an iteration of Jupyter Notebooks analyzing various defensive stats in Out of the Park Baseball XX. For this series I created a new default MLB league in OOTP and chose to use the Seattle Mariners as the team to look at. Why the Seattle Mariners? Well, they are not a good baseball team in XX, and are expected to give up a lot of runs right out of the box, so any change in fielding ratings should be more evident on the Mariners, than say a team with good pitching that is not expected to give up a lot of runs in the first place.\n",
    "\n",
    "Before diving into the rest of the setup for this, I want to stress that measuring the impact of fielding ratings on a team's performance is very fickle. Anything borne out in this analysis is going to be very weak in terms of predictive power. There are simply a lot of variables at play when trying to measure the impact of defense on runs allowed.\n",
    "\n",
    "Setup:\n",
    "I've already established I will be using the base MLB league in OOTPXX, and using the Seattle Mariners. Every rating that was used for this was modified from the default for that individual player. For this, I used the simulation module in game to simulate the season 100 times for each combination of ratings, scraping the HTML report after each simulation and saving that as a CSV file. I will primarily be looking at the number of runs allowed by the team in relation to the specific variable being tested, but in some instances when looking at catching data will expand to ERA/K/BB as well. \n",
    "\n",
    "For this experiment, I am using Domingo Santana as a proxy for Seth Beer. Santana is not a particualrly mobile outfielder, with a base range of 45 in game. This corresponds to where Seth Beer's outfield range was when he was starting to rack up Iron Glove awards. There is one difference between Beer and Santana and that is Beer always was in RF, while in this experiment Santana played only LF. In the below code block, I load the data from the experiment. Each row in the data corresponds to a different season, with the last column 'RLF' being the range rating on the 1-200 scale for that season."
   ]
  },
  {
   "cell_type": "code",
   "execution_count": 2,
   "metadata": {},
   "outputs": [
    {
     "data": {
      "text/html": [
       "<div>\n",
       "<style scoped>\n",
       "    .dataframe tbody tr th:only-of-type {\n",
       "        vertical-align: middle;\n",
       "    }\n",
       "\n",
       "    .dataframe tbody tr th {\n",
       "        vertical-align: top;\n",
       "    }\n",
       "\n",
       "    .dataframe thead th {\n",
       "        text-align: right;\n",
       "    }\n",
       "</style>\n",
       "<table border=\"1\" class=\"dataframe\">\n",
       "  <thead>\n",
       "    <tr style=\"text-align: right;\">\n",
       "      <th></th>\n",
       "      <th>W</th>\n",
       "      <th>L</th>\n",
       "      <th>Runs</th>\n",
       "      <th>AVG</th>\n",
       "      <th>HR</th>\n",
       "      <th>SB</th>\n",
       "      <th>Runs against</th>\n",
       "      <th>ERA</th>\n",
       "      <th>K</th>\n",
       "      <th>BB</th>\n",
       "      <th>RLF</th>\n",
       "    </tr>\n",
       "  </thead>\n",
       "  <tbody>\n",
       "    <tr>\n",
       "      <th>0</th>\n",
       "      <td>63</td>\n",
       "      <td>99</td>\n",
       "      <td>676</td>\n",
       "      <td>0.246</td>\n",
       "      <td>161</td>\n",
       "      <td>86</td>\n",
       "      <td>818</td>\n",
       "      <td>4.74</td>\n",
       "      <td>1307</td>\n",
       "      <td>521</td>\n",
       "      <td>75</td>\n",
       "    </tr>\n",
       "    <tr>\n",
       "      <th>1</th>\n",
       "      <td>71</td>\n",
       "      <td>91</td>\n",
       "      <td>642</td>\n",
       "      <td>0.237</td>\n",
       "      <td>152</td>\n",
       "      <td>106</td>\n",
       "      <td>800</td>\n",
       "      <td>4.58</td>\n",
       "      <td>1306</td>\n",
       "      <td>541</td>\n",
       "      <td>75</td>\n",
       "    </tr>\n",
       "    <tr>\n",
       "      <th>2</th>\n",
       "      <td>70</td>\n",
       "      <td>92</td>\n",
       "      <td>681</td>\n",
       "      <td>0.245</td>\n",
       "      <td>201</td>\n",
       "      <td>108</td>\n",
       "      <td>812</td>\n",
       "      <td>4.72</td>\n",
       "      <td>1312</td>\n",
       "      <td>517</td>\n",
       "      <td>75</td>\n",
       "    </tr>\n",
       "    <tr>\n",
       "      <th>3</th>\n",
       "      <td>59</td>\n",
       "      <td>103</td>\n",
       "      <td>618</td>\n",
       "      <td>0.244</td>\n",
       "      <td>154</td>\n",
       "      <td>89</td>\n",
       "      <td>897</td>\n",
       "      <td>5.24</td>\n",
       "      <td>1315</td>\n",
       "      <td>578</td>\n",
       "      <td>75</td>\n",
       "    </tr>\n",
       "    <tr>\n",
       "      <th>4</th>\n",
       "      <td>70</td>\n",
       "      <td>92</td>\n",
       "      <td>701</td>\n",
       "      <td>0.245</td>\n",
       "      <td>170</td>\n",
       "      <td>118</td>\n",
       "      <td>757</td>\n",
       "      <td>4.37</td>\n",
       "      <td>1292</td>\n",
       "      <td>525</td>\n",
       "      <td>75</td>\n",
       "    </tr>\n",
       "  </tbody>\n",
       "</table>\n",
       "</div>"
      ],
      "text/plain": [
       "    W    L  Runs    AVG   HR   SB  Runs against   ERA     K   BB  RLF\n",
       "0  63   99   676  0.246  161   86           818  4.74  1307  521   75\n",
       "1  71   91   642  0.237  152  106           800  4.58  1306  541   75\n",
       "2  70   92   681  0.245  201  108           812  4.72  1312  517   75\n",
       "3  59  103   618  0.244  154   89           897  5.24  1315  578   75\n",
       "4  70   92   701  0.245  170  118           757  4.37  1292  525   75"
      ]
     },
     "execution_count": 2,
     "metadata": {},
     "output_type": "execute_result"
    }
   ],
   "source": [
    "santana = pd.read_csv('SantanaRange.csv')\n",
    "santana.head()"
   ]
  },
  {
   "cell_type": "markdown",
   "metadata": {},
   "source": [
    "Here are all the corresponding range ratings on the 20-80 scale that were used. The first should be 45, but is just a product of rounding that shows 40. Beer's outfield range decreased to 35 about two seasons ago now, which is the minimum in our test, while the maximum is a 75 range."
   ]
  },
  {
   "cell_type": "code",
   "execution_count": 3,
   "metadata": {},
   "outputs": [
    {
     "data": {
      "text/plain": [
       "[40.0, 35.0, 50.0, 55.0, 60.0, 70.0, 75.0]"
      ]
     },
     "execution_count": 3,
     "metadata": {},
     "output_type": "execute_result"
    }
   ],
   "source": [
    "list(5 * np.round(((((santana.RLF.unique() - 1) * (80 - 20)) / (200 - 1)) + 20) / 5, 0))"
   ]
  },
  {
   "cell_type": "markdown",
   "metadata": {},
   "source": [
    "A quick histogram looking at ranges of 45 and 35, and the number of seasons where the runs allowed fell into the respective buckets. It appears that the 45 range seasons had on average slightly fewer runs allowed, given the shift in the median and average to the left of the graph."
   ]
  },
  {
   "cell_type": "code",
   "execution_count": 4,
   "metadata": {},
   "outputs": [
    {
     "data": {
      "image/png": "[encoded data removed]",
      "text/plain": [
       "<Figure size 432x288 with 1 Axes>"
      ]
     },
     "metadata": {
      "needs_background": "light"
     },
     "output_type": "display_data"
    }
   ],
   "source": [
    "average = santana.loc[santana['RLF'] == 100, ['Runs against']]\n",
    "base = santana.loc[santana['RLF'] == 75, ['Runs against']]\n",
    "\n",
    "plt.hist([average['Runs against']\n",
    "          , base['Runs against']\n",
    "         ] , alpha=0.5, label=['Avg', 'Base', 'Super'])\n",
    "\n",
    "plt.legend(loc='upper right')\n",
    "plt.show()"
   ]
  },
  {
   "cell_type": "markdown",
   "metadata": {},
   "source": [
    "A boxplot of all the various range ratings on the vertical axis, and the number of runs allowed on the horizonal axis. It's clear in the bottom three boxes that the median runs allowed decreases as the range rating increases. Once it gets to 125 (55) that drop-off seems to disappear. I am not really sure why that would be - perhaps at a certain point range in the COF spots does correlate to increased balls caught, or it could just be bad data. I could run the experiment again, but for now we'll roll with it."
   ]
  },
  {
   "cell_type": "code",
   "execution_count": 5,
   "metadata": {},
   "outputs": [
    {
     "data": {
      "text/plain": [
       "<matplotlib.axes._subplots.AxesSubplot at 0x2a4ffa127c8>"
      ]
     },
     "execution_count": 5,
     "metadata": {},
     "output_type": "execute_result"
    },
    {
     "data": {
      "image/png": "[encoded data removed]",
      "text/plain": [
       "<Figure size 432x288 with 1 Axes>"
      ]
     },
     "metadata": {
      "needs_background": "light"
     },
     "output_type": "display_data"
    }
   ],
   "source": [
    "santana.boxplot('Runs against', by='RLF', vert=False)"
   ]
  },
  {
   "cell_type": "markdown",
   "metadata": {},
   "source": [
    "I am not going to dive into model building, or cross-validation concepts for this series. We'll just build a model, and see what impact there is very quickly. These next two code blocks just build a model on the entire data set, and print out some diagnostic plots to veryify the models aren't biased in anyway."
   ]
  },
  {
   "cell_type": "code",
   "execution_count": 6,
   "metadata": {},
   "outputs": [
    {
     "data": {
      "image/png": "[encoded data removed]",
      "text/plain": [
       "<Figure size 432x288 with 1 Axes>"
      ]
     },
     "metadata": {
      "needs_background": "light"
     },
     "output_type": "display_data"
    }
   ],
   "source": [
    "target = santana['Runs against']\n",
    "variable = np.array(santana['RLF']).reshape(-1,1)\n",
    "lr = linear_model.LinearRegression()\n",
    "lr.fit(variable, target)\n",
    "residuals = lr.predict(variable) - target\n",
    "plt.scatter(residuals.index, residuals)\n",
    "plt.show()"
   ]
  },
  {
   "cell_type": "code",
   "execution_count": 7,
   "metadata": {},
   "outputs": [
    {
     "data": {
      "image/png": "[encoded data removed]",
      "text/plain": [
       "<Figure size 432x288 with 1 Axes>"
      ]
     },
     "metadata": {
      "needs_background": "light"
     },
     "output_type": "display_data"
    }
   ],
   "source": [
    "residuals = lr.predict(variable) - target\n",
    "sm.qqplot(residuals, fit=True, line='45')\n",
    "plt.show()"
   ]
  },
  {
   "cell_type": "markdown",
   "metadata": {},
   "source": [
    "As said before, any relationship between any individual fielding rating and runs allowed is going to be very weak, as seen in the R2 score below, but that's fine."
   ]
  },
  {
   "cell_type": "code",
   "execution_count": 8,
   "metadata": {},
   "outputs": [
    {
     "data": {
      "text/plain": [
       "0.0295519864346897"
      ]
     },
     "execution_count": 8,
     "metadata": {},
     "output_type": "execute_result"
    }
   ],
   "source": [
    "lr.score(variable, target)"
   ]
  },
  {
   "cell_type": "markdown",
   "metadata": {},
   "source": [
    "For every five point change in outfield range, there appears to be a reduction in the number of runs allowed by about three over the course of a season based on this experiment. The difference between a 35 and 50 outfield range would be expcted to be about 9 runs over the course of a season."
   ]
  },
  {
   "cell_type": "code",
   "execution_count": 9,
   "metadata": {},
   "outputs": [
    {
     "data": {
      "text/plain": [
       "array([-0.16887008])"
      ]
     },
     "execution_count": 9,
     "metadata": {},
     "output_type": "execute_result"
    }
   ],
   "source": [
    "lr.coef_"
   ]
  },
  {
   "cell_type": "markdown",
   "metadata": {},
   "source": [
    "We can change the target variable from runs allowed to wins, since that's the ultimate objective in baseball. The difference between a 35 and a 50 outfield range in the data used above would be about a win over the course of a season."
   ]
  },
  {
   "cell_type": "code",
   "execution_count": 10,
   "metadata": {},
   "outputs": [
    {
     "data": {
      "text/plain": [
       "0.9165944881889777"
      ]
     },
     "execution_count": 10,
     "metadata": {},
     "output_type": "execute_result"
    }
   ],
   "source": [
    "target = santana['W']\n",
    "lr.fit(variable, target)\n",
    "lr.coef_[0] * 51"
   ]
  },
  {
   "cell_type": "markdown",
   "metadata": {},
   "source": [
    "But what happens if we get rid of the data for Outfield Range that was greater than 50 given? The number of runs allowed for a five point change in range jumps to about 9.8 runs per season, with the difference between a 35 and 50 range being about 30 runs. "
   ]
  },
  {
   "cell_type": "code",
   "execution_count": 11,
   "metadata": {},
   "outputs": [
    {
     "data": {
      "text/plain": [
       "array([-0.55536066])"
      ]
     },
     "execution_count": 11,
     "metadata": {},
     "output_type": "execute_result"
    }
   ],
   "source": [
    "santana2 = pd.read_csv('SantanaRange2.csv')\n",
    "target = santana2['Runs against']\n",
    "variable = np.array(santana2['RLF']).reshape(-1,1)\n",
    "lr.fit(variable, target)\n",
    "lr.coef_"
   ]
  },
  {
   "cell_type": "markdown",
   "metadata": {},
   "source": [
    "Below is a boxplot looking at just these three ranges. The median green line in each box clearly shifts to the left as the range increases, as well as the range of the tails on either end."
   ]
  },
  {
   "cell_type": "code",
   "execution_count": 12,
   "metadata": {},
   "outputs": [
    {
     "data": {
      "text/plain": [
       "<matplotlib.axes._subplots.AxesSubplot at 0x2a4ffcd6c08>"
      ]
     },
     "execution_count": 12,
     "metadata": {},
     "output_type": "execute_result"
    },
    {
     "data": {
      "image/png": "[encoded data removed]",
      "text/plain": [
       "<Figure size 432x288 with 1 Axes>"
      ]
     },
     "metadata": {
      "needs_background": "light"
     },
     "output_type": "display_data"
    }
   ],
   "source": [
    "santana2.boxplot('Runs against', by='RLF', vert=False)"
   ]
  },
  {
   "cell_type": "markdown",
   "metadata": {},
   "source": [
    "Just as we did for the full dataset, we can look at wins for the pared down data. We'd expect about a 2.7 win difference between an OF range of 35 and 50."
   ]
  },
  {
   "cell_type": "code",
   "execution_count": 13,
   "metadata": {},
   "outputs": [
    {
     "data": {
      "text/plain": [
       "2.755672131147539"
      ]
     },
     "execution_count": 13,
     "metadata": {},
     "output_type": "execute_result"
    }
   ],
   "source": [
    "target = santana2['W']\n",
    "lr.fit(variable, target)\n",
    "lr.coef_[0] * 51"
   ]
  },
  {
   "cell_type": "markdown",
   "metadata": {},
   "source": [
    "Do I think there is a nearly 10 run difference for every five point change in outfield range? Probably not, but I think it's an interesting thought that might have to be re-visited with more experimentation. It could be a non-linear relationship between outfield range in the corner, and runs allowed, where there are diminishing returns for increases in range."
   ]
  }
 ],
 "metadata": {
  "kernelspec": {
   "display_name": "Python 3",
   "language": "python",
   "name": "python3"
  },
  "language_info": {
   "codemirror_mode": {
    "name": "ipython",
    "version": 3
   },
   "file_extension": ".py",
   "mimetype": "text/x-python",
   "name": "python",
   "nbconvert_exporter": "python",
   "pygments_lexer": "ipython3",
   "version": "3.7.5"
  }
 },
 "nbformat": 4,
 "nbformat_minor": 2
}
